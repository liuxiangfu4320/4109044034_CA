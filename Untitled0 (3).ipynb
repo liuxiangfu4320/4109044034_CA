{
  "nbformat": 4,
  "nbformat_minor": 0,
  "metadata": {
    "colab": {
      "provenance": []
    },
    "kernelspec": {
      "name": "python3",
      "display_name": "Python 3"
    },
    "language_info": {
      "name": "python"
    }
  },
  "cells": [
    {
      "cell_type": "code",
      "source": [
        "import re\n",
        "class SimpleLexer(object):\n",
        "  def __init__(self):\n",
        "    self.token_rules = [\n",
        "        ('NUMBER',   r'\\d+'),\n",
        "        ('PLUS',     r'\\+'),\n",
        "        ('MINUS',    r'-'),\n",
        "        ('MULTIPLY', r'\\*'),\n",
        "        ('DIVIDE',   r'/'),\n",
        "        ('LPAREN',  r'\\('),\n",
        "        ('RPAREN',  r'\\)'),\n",
        "        ('ws',       r'\\s+'),\n",
        "    ]\n",
        "    self.token_regex = '|' .join('(?P<%S>%S)' % pair for pair in self.token_rules)\n",
        "    self.re_token_regex = re.compile(self.token_regex)\n",
        "\n",
        "def tokenize(self, code):\n",
        "  for mo in self.re_token_regex.finditer(code):\n",
        "    kind = mo.lastgroup\n",
        "    value = mo.group()\n",
        "    if kind == 'NUMBER':\n",
        "      value = int(value)\n",
        "    elif kind == 'WS':\n",
        "      continue\n",
        "    yield kind, value"
      ],
      "metadata": {
        "id": "_NKTzI7eBO9t"
      },
      "execution_count": 1,
      "outputs": []
    }
  ]
}