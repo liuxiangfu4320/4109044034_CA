{
  "nbformat": 4,
  "nbformat_minor": 0,
  "metadata": {
    "colab": {
      "provenance": []
    },
    "kernelspec": {
      "name": "python3",
      "display_name": "Python 3"
    },
    "language_info": {
      "name": "python"
    }
  },
  "cells": [
    {
      "cell_type": "code",
      "execution_count": null,
      "metadata": {
        "id": "sGj4cS-0i56y"
      },
      "outputs": [],
      "source": [
        "import os\n",
        "os.mkdir('CS')\n",
        "file_path = os.path.join('CS','homework.txt')\n",
        "with open(file_path,'w')as file:\n",
        "    file.write('4109044034_liuxiangfu')\n",
        "with open(file_path,'r')as file:\n",
        "    content = file.read()\n",
        "print(\"檔案內容:\",content)\n",
        "print(\"\\n檔案資訊:\")\n",
        "print(\"資訊:\",os.path.getsize(file_path),\"bytes\")\n",
        "os.remove(file_path)\n",
        "os.rmdir('CS')"
      ]
    }
  ]
}