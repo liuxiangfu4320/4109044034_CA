{
  "nbformat": 4,
  "nbformat_minor": 0,
  "metadata": {
    "colab": {
      "provenance": []
    },
    "kernelspec": {
      "name": "python3",
      "display_name": "Python 3"
    },
    "language_info": {
      "name": "python"
    }
  },
  "cells": [
    {
      "cell_type": "code",
      "source": [
        "def bubble_sort(arr):\n",
        "  n = len(arr)\n",
        "  for i in range(n):\n",
        "    for j in range(0,n-i-1):\n",
        "      if arr[j]>arr[j+1]:\n",
        "        arr[j],arr[j+1] = arr[j+1],arr[j]\n",
        "    print(\"第{}次遍歷候排序結果{}\".format(i,arr))\n",
        "  print(\"Bubble sort 後的數列:\")\n",
        "  print(arr)\n",
        "def insertion_sort(arr):\n",
        "  n = len(arr)\n",
        "  for i in range(1,n):\n",
        "    key = arr[i]\n",
        "    j = i-1\n",
        "    while j>=0 and key < arr[j]:\n",
        "      arr[j+1] = arr[j]\n",
        "      j -= 1\n",
        "      arr[j+1] = key\n",
        "      print(\"第{}次遍歷候排序結果{}\".format(i,arr))\n",
        "    print(\" insertion sort 後的數列:\")\n",
        "    print(arr)\n",
        "    array=[100,64,34,25,12,22,11,90]\n",
        "    insertion_sort(array)\n",
        "    print()\n",
        "    array=[100,64,34,25,12,22,11,90]\n",
        "    bubble_sort(array)\n"
      ],
      "metadata": {
        "id": "UhBvfvZ0Xcf0"
      },
      "execution_count": 2,
      "outputs": []
    }
  ]
}