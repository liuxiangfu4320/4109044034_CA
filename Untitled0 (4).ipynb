{
  "nbformat": 4,
  "nbformat_minor": 0,
  "metadata": {
    "colab": {
      "provenance": []
    },
    "kernelspec": {
      "name": "python3",
      "display_name": "Python 3"
    },
    "language_info": {
      "name": "python"
    }
  },
  "cells": [
    {
      "cell_type": "code",
      "source": [
        "class Queue:\n",
        "  def __init__(self,capacity):\n",
        "    self.capacity = capacity\n",
        "    self.queue = [None]*capacity\n",
        "    self.front = -1\n",
        "    self.rear = -1\n",
        "  def is_empty(self):\n",
        "    return self.front == -1 and self.rear ==-1\n",
        "  def is_full(self):\n",
        "    return(self.rear+1) % self.capacity == self.front\n",
        "  def enqueue(self,item):\n",
        "    if self.is_full():\n",
        "      print(\"Queue is full. Unable to enqueue.\")\n",
        "      return\n",
        "    if self.is_empty():\n",
        "       self.front = 0\n",
        "  def dequeue(self):\n",
        "    if self.is_empty():\n",
        "      print(\"Queue is empty. Unable to dequeue.\")\n",
        "      return None\n",
        "    item = self.queue[self.front]\n",
        "    if self.front == self.rear:\n",
        "      self.front = self.rear = -1\n",
        "    else:\n",
        "      self.front = (self.front + 1) % self.capacity\n",
        "\n",
        "      return item\n",
        "  def display(self):\n",
        "    if self.is_empty():\n",
        "      print(\"Queue is empty.\")\n",
        "      return\n",
        "    current = self.front\n",
        "    while current != self.rear:\n",
        "      print(self.queue[current], end=\"\")\n",
        "      current = (current + 1) %self.capacity\n",
        "    print(self.queue[self.rear])\n",
        "    queue = Queue(5)\n",
        "    queue.enqueue(1)\n",
        "    queue.enqueue(2)\n",
        "    queue.enqueue(3)\n",
        "    queue.enqueue(4)\n",
        "    queue.enqueue(5)\n",
        "\n",
        "\n",
        "    queue.display()\n",
        "\n",
        "    print(\"Dequeued item:\",queue.dequeue())\n",
        "    print(\"Dequeued item:\",queue.dequeue())\n",
        "\n",
        "    queue.display()\n",
        "\n",
        "\n",
        "\n",
        "\n",
        ""
      ],
      "metadata": {
        "id": "lJW6S0vobSZa"
      },
      "execution_count": 3,
      "outputs": []
    }
  ]
}