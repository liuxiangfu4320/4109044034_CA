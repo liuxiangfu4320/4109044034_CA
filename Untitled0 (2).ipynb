{
  "nbformat": 4,
  "nbformat_minor": 0,
  "metadata": {
    "colab": {
      "provenance": []
    },
    "kernelspec": {
      "name": "python3",
      "display_name": "Python 3"
    },
    "language_info": {
      "name": "python"
    }
  },
  "cells": [
    {
      "cell_type": "code",
      "execution_count": 1,
      "metadata": {
        "colab": {
          "base_uri": "https://localhost:8080/"
        },
        "id": "gdrX1FyPjlIO",
        "outputId": "11266bd1-b766-4f34-83ea-34d97f8d1c47"
      },
      "outputs": [
        {
          "output_type": "stream",
          "name": "stdout",
          "text": [
            "表格內容:\n",
            "(1, 'Chicken', 30, 30)\n",
            "(2, 'Beaf', 55, 10)\n",
            "(3, 'Pork', 35, 15)\n"
          ]
        }
      ],
      "source": [
        "import sqlite3\n",
        "conn = sqlite3.connect('BBQ.db')\n",
        "cursor = conn.cursor()\n",
        "cursor.execute('''\n",
        "               CREATE TABLE IF NOT EXISTS meats (\n",
        "                   id INTEGER PRIMARY KEY,\n",
        "                   name TEXT,\n",
        "                   price INTEGER,\n",
        "                   quantity INTEGER\n",
        "                   )''')\n",
        "cursor.execute(\"INSERT INTO meats (name, price, quantity) VALUES ('Chicken', 30 , 5)\")\n",
        "cursor.execute(\"INSERT INTO meats (name, price, quantity) VALUES ('Beaf', 55, 10)\")\n",
        "cursor.execute(\"INSERT INTO meats (name, price, quantity) VALUES ('Pork', 40, 15)\")\n",
        "\n",
        "cursor.execute(\"UPDATE meats SET price = 35 WHERE name = 'Pork'\")\n",
        "conn.commit()\n",
        "cursor.execute(\"UPDATE meats SET quantity = 30 WHERE name ='Chicken'\")\n",
        "conn.commit()\n",
        "cursor.execute(\"DELETE FROM meats WHERE price = 40\")\n",
        "conn.commit()\n",
        "\n",
        "cursor.execute(\"SELECT * FROM meats\")\n",
        "meats = cursor.fetchall()\n",
        "\n",
        "print(\"表格內容:\")\n",
        "for meat in meats:\n",
        "    print(meat)"
      ]
    }
  ]
}