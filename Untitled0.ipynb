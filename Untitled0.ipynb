{
  "nbformat": 4,
  "nbformat_minor": 0,
  "metadata": {
    "colab": {
      "provenance": []
    },
    "kernelspec": {
      "name": "python3",
      "display_name": "Python 3"
    },
    "language_info": {
      "name": "python"
    }
  },
  "cells": [
    {
      "cell_type": "code",
      "execution_count": 1,
      "metadata": {
        "colab": {
          "base_uri": "https://localhost:8080/"
        },
        "id": "sGj4cS-0i56y",
        "outputId": "095354c3-a9a2-4201-a48b-905e7ca950c1"
      },
      "outputs": [
        {
          "output_type": "stream",
          "name": "stdout",
          "text": [
            ":5\n",
            ":134009219170672\n"
          ]
        }
      ],
      "source": [
        "x=5\n",
        "print(f\":{x}\")\n",
        "print(f\":{id(x)}\")\n",
        ""
      ]
    }
  ]
}